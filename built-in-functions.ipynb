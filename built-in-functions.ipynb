{
 "cells": [
  {
   "cell_type": "markdown",
   "metadata": {},
   "source": [
    "abs()\tReturn the absolute value of a number."
   ]
  },
  {
   "cell_type": "code",
   "execution_count": 2,
   "metadata": {},
   "outputs": [
    {
     "name": "stdout",
     "output_type": "stream",
     "text": [
      "21\n"
     ]
    }
   ],
   "source": [
    "print(abs(-21))"
   ]
  },
  {
   "cell_type": "markdown",
   "metadata": {},
   "source": [
    "aiter()\tReturn an asynchronous iterator for an asynchronous iterable."
   ]
  },
  {
   "cell_type": "code",
   "execution_count": 5,
   "metadata": {},
   "outputs": [],
   "source": [
    "async def aitersync(iterable):\n",
    "    result = []\n",
    "    async for x in aiter(iterable):\n",
    "        result.append(x)\n",
    "    return iter(result)"
   ]
  },
  {
   "cell_type": "markdown",
   "metadata": {},
   "source": [
    "all()\tReturn True if all elements of the iterable are true."
   ]
  },
  {
   "cell_type": "code",
   "execution_count": 10,
   "metadata": {},
   "outputs": [
    {
     "name": "stdout",
     "output_type": "stream",
     "text": [
      "False\n"
     ]
    }
   ],
   "source": [
    "check = [1,1,0]\n",
    "print(all(check))"
   ]
  },
  {
   "cell_type": "markdown",
   "metadata": {},
   "source": [
    "any()\tReturn True if any element of the iterable is true."
   ]
  },
  {
   "cell_type": "code",
   "execution_count": 13,
   "metadata": {},
   "outputs": [
    {
     "name": "stdout",
     "output_type": "stream",
     "text": [
      "True\n"
     ]
    }
   ],
   "source": [
    "print(any([True,False,False]))"
   ]
  },
  {
   "cell_type": "markdown",
   "metadata": {},
   "source": [
    "ascii()\tReturn a string with a printable representation of an object."
   ]
  },
  {
   "cell_type": "code",
   "execution_count": 16,
   "metadata": {},
   "outputs": [
    {
     "name": "stdout",
     "output_type": "stream",
     "text": [
      "['A', '\\xeb']\n"
     ]
    }
   ],
   "source": [
    "print(ascii(['A', 'ë']))"
   ]
  },
  {
   "cell_type": "markdown",
   "metadata": {},
   "source": [
    "bin()\tConvert an integer number to a binary string."
   ]
  },
  {
   "cell_type": "code",
   "execution_count": 19,
   "metadata": {},
   "outputs": [
    {
     "name": "stdout",
     "output_type": "stream",
     "text": [
      "1010\n"
     ]
    }
   ],
   "source": [
    "a = bin(10)\n",
    "replace_string = a.replace('0b','')\n",
    "print(replace_string)\n"
   ]
  },
  {
   "cell_type": "markdown",
   "metadata": {},
   "source": [
    "bool()\tReturn a Boolean value."
   ]
  },
  {
   "cell_type": "code",
   "execution_count": 21,
   "metadata": {},
   "outputs": [
    {
     "name": "stdout",
     "output_type": "stream",
     "text": [
      "True\n"
     ]
    }
   ],
   "source": [
    "print(bool(1))"
   ]
  },
  {
   "cell_type": "markdown",
   "metadata": {},
   "source": [
    "breakpoint()\tDrops you into the debugger at the call site."
   ]
  },
  {
   "cell_type": "code",
   "execution_count": 22,
   "metadata": {},
   "outputs": [
    {
     "name": "stdout",
     "output_type": "stream",
     "text": [
      "Hello World\n"
     ]
    }
   ],
   "source": [
    "breakpoint()\n",
    "print(\"Hello World\")"
   ]
  },
  {
   "cell_type": "markdown",
   "metadata": {},
   "source": [
    "bytearray()\tReturn a new array of bytes."
   ]
  },
  {
   "cell_type": "code",
   "execution_count": 23,
   "metadata": {},
   "outputs": [
    {
     "name": "stdout",
     "output_type": "stream",
     "text": [
      "bytearray(b'Hello World')\n"
     ]
    }
   ],
   "source": [
    "data = \"Hello World\"\n",
    "bytearrayobj = bytearray(data, 'utf-8')\n",
    "print(bytearrayobj)"
   ]
  },
  {
   "cell_type": "markdown",
   "metadata": {},
   "source": [
    "bytes()\tReturn a new “bytes” object."
   ]
  },
  {
   "cell_type": "code",
   "execution_count": 24,
   "metadata": {},
   "outputs": [
    {
     "name": "stdout",
     "output_type": "stream",
     "text": [
      "b'Hello World'\n"
     ]
    }
   ],
   "source": [
    "data = \"Hello World\"\n",
    "bytesobj = bytes(data, 'utf-8')\n",
    "print(bytesobj)"
   ]
  },
  {
   "cell_type": "markdown",
   "metadata": {},
   "source": [
    "callable()\tReturn True if the object argument is callable, False if not."
   ]
  },
  {
   "cell_type": "code",
   "execution_count": 25,
   "metadata": {},
   "outputs": [
    {
     "name": "stdout",
     "output_type": "stream",
     "text": [
      "False\n",
      "True\n",
      "True\n",
      "True\n"
     ]
    }
   ],
   "source": [
    "def my_class():\n",
    "    pass\n",
    "class SampleClass:\n",
    "    def __call__(self):\n",
    "        pass\n",
    "    \n",
    "x = 5\n",
    "y = my_class\n",
    "z = SampleClass\n",
    "a = lambda : None\n",
    "print(callable(x))\n",
    "print(callable(y))\n",
    "print(callable(z))\n",
    "print(callable(a))"
   ]
  },
  {
   "cell_type": "markdown",
   "metadata": {},
   "source": [
    "chr()\tReturn the string representing a character. ord() inverse of a chr()"
   ]
  },
  {
   "cell_type": "code",
   "execution_count": 29,
   "metadata": {},
   "outputs": [
    {
     "name": "stdout",
     "output_type": "stream",
     "text": [
      "a\n",
      "97\n"
     ]
    }
   ],
   "source": [
    "print(chr(97))\n",
    "print(ord('a'))"
   ]
  },
  {
   "cell_type": "markdown",
   "metadata": {},
   "source": [
    "classmethod()\tTransform a method into a class method."
   ]
  },
  {
   "cell_type": "code",
   "execution_count": 30,
   "metadata": {},
   "outputs": [
    {
     "name": "stdout",
     "output_type": "stream",
     "text": [
      "1\n",
      "1\n"
     ]
    }
   ],
   "source": [
    "class Counter:\n",
    "    def __init__(self):\n",
    "        self.count = 0\n",
    "    def increment(self):\n",
    "        self.count += 1\n",
    "        return self.count\n",
    "    \n",
    "    @classmethod\n",
    "    def get_new_instance(cls):\n",
    "        return cls()\n",
    "    \n",
    "counter = Counter()\n",
    "print(counter.increment())\n",
    "counter = counter.get_new_instance()\n",
    "print(counter.increment())"
   ]
  },
  {
   "cell_type": "markdown",
   "metadata": {},
   "source": [
    "compile()\tCompile the source into a code or AST object."
   ]
  },
  {
   "cell_type": "code",
   "execution_count": 31,
   "metadata": {},
   "outputs": [
    {
     "name": "stdout",
     "output_type": "stream",
     "text": [
      "Hello, world!\n"
     ]
    }
   ],
   "source": [
    "code_string = \"\"\"\n",
    "def hello_world():\n",
    "    print('Hello, world!')\n",
    "\"\"\"\n",
    "\n",
    "# Compile the string into a code object\n",
    "code_object = compile(code_string, '<string>', 'exec')\n",
    "\n",
    "# Execute the code object\n",
    "exec(code_object)\n",
    "\n",
    "# Call the function defined in the code object\n",
    "hello_world()"
   ]
  },
  {
   "cell_type": "markdown",
   "metadata": {},
   "source": [
    "complex()\tReturn a complex number with the value real + imag*1j."
   ]
  },
  {
   "cell_type": "code",
   "execution_count": 32,
   "metadata": {},
   "outputs": [
    {
     "data": {
      "text/plain": [
       "(1+0j)"
      ]
     },
     "execution_count": 32,
     "metadata": {},
     "output_type": "execute_result"
    }
   ],
   "source": [
    "complex(1)"
   ]
  },
  {
   "cell_type": "markdown",
   "metadata": {},
   "source": [
    "delattr()\tDeletes the named attribute, provided the object allows it."
   ]
  },
  {
   "cell_type": "code",
   "execution_count": null,
   "metadata": {},
   "outputs": [],
   "source": [
    "delattr(x, 'foobar')\n",
    "del x.foobar"
   ]
  },
  {
   "cell_type": "markdown",
   "metadata": {},
   "source": [
    "dict()\tCreate a new dictionary."
   ]
  },
  {
   "cell_type": "code",
   "execution_count": 35,
   "metadata": {},
   "outputs": [
    {
     "data": {
      "text/plain": [
       "dict"
      ]
     },
     "execution_count": 35,
     "metadata": {},
     "output_type": "execute_result"
    }
   ],
   "source": [
    "a = dict()\n",
    "type(a)"
   ]
  },
  {
   "cell_type": "markdown",
   "metadata": {},
   "source": [
    "dir()\tReturn the list of names in the current local scope."
   ]
  },
  {
   "cell_type": "code",
   "execution_count": 36,
   "metadata": {},
   "outputs": [
    {
     "name": "stdout",
     "output_type": "stream",
     "text": [
      "['Counter', 'In', 'Out', 'SampleClass', '_', '_17', '_32', '_35', '__', '___', '__builtin__', '__builtins__', '__doc__', '__loader__', '__name__', '__package__', '__spec__', '__vsc_ipynb_file__', '_dh', '_i', '_i1', '_i10', '_i11', '_i12', '_i13', '_i14', '_i15', '_i16', '_i17', '_i18', '_i19', '_i2', '_i20', '_i21', '_i22', '_i23', '_i24', '_i25', '_i26', '_i27', '_i28', '_i29', '_i3', '_i30', '_i31', '_i32', '_i33', '_i34', '_i35', '_i36', '_i4', '_i5', '_i6', '_i7', '_i8', '_i9', '_ih', '_ii', '_iii', '_oh', 'a', 'aitersync', 'b', 'bytearrayobj', 'bytesobj', 'check', 'code_object', 'code_string', 'counter', 'data', 'exit', 'get_ipython', 'hello_world', 'my_class', 'my_function', 'open', 'quit', 'replace_string', 'x', 'y', 'z']\n"
     ]
    }
   ],
   "source": [
    "a = 10\n",
    "b = \"Hello\"\n",
    "def my_function():\n",
    "    pass\n",
    "\n",
    "print(dir())"
   ]
  },
  {
   "cell_type": "markdown",
   "metadata": {},
   "source": [
    "divmod()\tReturn a pair of numbers consisting of their quotient and remainder."
   ]
  },
  {
   "cell_type": "code",
   "execution_count": 37,
   "metadata": {},
   "outputs": [
    {
     "data": {
      "text/plain": [
       "(3, 1)"
      ]
     },
     "execution_count": 37,
     "metadata": {},
     "output_type": "execute_result"
    }
   ],
   "source": [
    "divmod(2, 2)\n",
    "# (1, 0)\n",
    "divmod(10, 2)\n",
    "# (5, 0)\n",
    "divmod(7, 2)\n",
    "# (3, 1)"
   ]
  },
  {
   "cell_type": "markdown",
   "metadata": {},
   "source": [
    "enumerate()\tReturn an enumerate object."
   ]
  },
  {
   "cell_type": "code",
   "execution_count": 38,
   "metadata": {},
   "outputs": [
    {
     "name": "stdout",
     "output_type": "stream",
     "text": [
      "Index 0, Item 1\n",
      "Index 1, Item 2\n",
      "Index 2, Item 3\n",
      "Index 3, Item 4\n",
      "Index 4, Item 5\n"
     ]
    }
   ],
   "source": [
    "for index,item in enumerate([1,2,3,4,5]):\n",
    "    print(f\"Index {index}, Item {item}\")"
   ]
  },
  {
   "cell_type": "markdown",
   "metadata": {},
   "source": [
    "eval()\tEvaluates and executes an expression."
   ]
  },
  {
   "cell_type": "code",
   "execution_count": 42,
   "metadata": {},
   "outputs": [
    {
     "name": "stdout",
     "output_type": "stream",
     "text": [
      "Hello World!\n"
     ]
    }
   ],
   "source": [
    "eval('1 + 4')\n",
    "eval('print(\"Hello World!\")')"
   ]
  },
  {
   "cell_type": "markdown",
   "metadata": {},
   "source": [
    "exec()\tThis function supports dynamic execution of Python code."
   ]
  },
  {
   "cell_type": "code",
   "execution_count": 43,
   "metadata": {},
   "outputs": [
    {
     "name": "stdout",
     "output_type": "stream",
     "text": [
      "Hello, exec()!\n",
      "0\n",
      "1\n",
      "2\n",
      "3\n",
      "4\n",
      "Error: name 'undefined_variable' is not defined\n"
     ]
    }
   ],
   "source": [
    "code_to_execute = \"print('Hello, exec()!')\"\n",
    "exec(code_to_execute)\n",
    "code = \"\"\"\n",
    "for i in range(5):\n",
    "    print(i)\n",
    "\"\"\"\n",
    "exec(code)\n",
    "# Output: 0\n",
    "#         1\n",
    "#         2\n",
    "#         3\n",
    "#         4\n",
    "\n",
    "code = \"\"\"\n",
    "try:\n",
    "    print(undefined_variable)\n",
    "except NameError as e:\n",
    "    print(f\"Error: {e}\")\n",
    "\"\"\"\n",
    "exec(code)\n",
    "# Output: Error: name 'undefined_variable' is not defined"
   ]
  },
  {
   "cell_type": "markdown",
   "metadata": {},
   "source": [
    "filter()\tConstruct an iterator from an iterable and returns true."
   ]
  },
  {
   "cell_type": "code",
   "execution_count": 45,
   "metadata": {},
   "outputs": [
    {
     "name": "stdout",
     "output_type": "stream",
     "text": [
      "[2, 4, 6]\n"
     ]
    }
   ],
   "source": [
    "def is_even(num):\n",
    "     return num % 2 == 0\n",
    "\n",
    "numbers = [1, 2, 3, 4, 5, 6]\n",
    "even_numbers = list(filter(is_even, numbers))\n",
    "print(even_numbers)\n",
    "# [2, 4, 6]"
   ]
  }
 ],
 "metadata": {
  "kernelspec": {
   "display_name": "Python 3",
   "language": "python",
   "name": "python3"
  },
  "language_info": {
   "codemirror_mode": {
    "name": "ipython",
    "version": 3
   },
   "file_extension": ".py",
   "mimetype": "text/x-python",
   "name": "python",
   "nbconvert_exporter": "python",
   "pygments_lexer": "ipython3",
   "version": "3.10.11"
  }
 },
 "nbformat": 4,
 "nbformat_minor": 2
}
